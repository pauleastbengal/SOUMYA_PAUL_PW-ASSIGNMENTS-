{
 "cells": [
  {
   "cell_type": "markdown",
   "id": "42721196-6534-4dfe-8ecd-4c406191d733",
   "metadata": {},
   "source": [
    "ASSIGNMENT FOR  19th august\n",
    "     TOPIC=PYTHON BASICS VARIABLE\n"
   ]
  },
  {
   "cell_type": "code",
   "execution_count": 1,
   "id": "d89a4001-1214-4c74-a301-cafb3d071e19",
   "metadata": {},
   "outputs": [
    {
     "name": "stdout",
     "output_type": "stream",
     "text": [
      "AFTER SWAPPING THE VALUES\n",
      "x :  20\n",
      "y :  10\n"
     ]
    }
   ],
   "source": [
    "#BY SOUMYA PAUL ,FSDS PRO BATCH \n",
    "# Q-1)\n",
    "x=10\n",
    "y=20\n",
    "x=x+y\n",
    "y=x-y\n",
    "x=x-y\n",
    "print(\"AFTER SWAPPING THE VALUES\")\n",
    "print(\"x : \",x)\n",
    "print(\"y : \",y)"
   ]
  },
  {
   "cell_type": "code",
   "execution_count": 2,
   "id": "c8b31a5b-6fc3-4359-bf90-ed962512dff8",
   "metadata": {},
   "outputs": [
    {
     "name": "stdin",
     "output_type": "stream",
     "text": [
      "Enter the length of the rectangle:  12\n",
      "Enter the width of the rectangle:  55\n"
     ]
    },
    {
     "name": "stdout",
     "output_type": "stream",
     "text": [
      "The area of the rectangle is :  660.0\n"
     ]
    }
   ],
   "source": [
    "# Q-2)\n",
    "\n",
    "# taking input from user\n",
    "length=float(input(\"Enter the length of the rectangle: \"))\n",
    "width=float(input(\"Enter the width of the rectangle: \"))\n",
    "\n",
    "# area formula\n",
    "area=length*width\n",
    "\n",
    "# display the area\n",
    "print(\"The area of the rectangle is : \", area)"
   ]
  },
  {
   "cell_type": "code",
   "execution_count": 3,
   "id": "843480a4-8d95-463f-977f-221c5f1281b8",
   "metadata": {},
   "outputs": [
    {
     "name": "stdin",
     "output_type": "stream",
     "text": [
      "Enter temperature in Celsius:  45\n"
     ]
    },
    {
     "name": "stdout",
     "output_type": "stream",
     "text": [
      "Temperature in Fahrenheit: 113.0\n"
     ]
    }
   ],
   "source": [
    "# Q-3)\n",
    "\n",
    "# Taking input from the user for temperature in Celsius\n",
    "celsius = float(input(\"Enter temperature in Celsius: \"))\n",
    "\n",
    "# Converting Celsius to Fahrenheit\n",
    "fahrenheit = (celsius * 9/5) + 32\n",
    "\n",
    "# Displaying the converted temperature in Fahrenheit\n",
    "print(\"Temperature in Fahrenheit:\", fahrenheit)\n",
    "\n",
    "\n"
   ]
  },
  {
   "cell_type": "markdown",
   "id": "7b67eb41-6520-4d0d-9a74-4cc64dd7aa0f",
   "metadata": {},
   "source": [
    "TOPIC = STRING BASED QUESTIONS"
   ]
  },
  {
   "cell_type": "code",
   "execution_count": 4,
   "id": "16ee505e-ab96-44e5-8a66-7ec105986ccf",
   "metadata": {},
   "outputs": [
    {
     "name": "stdin",
     "output_type": "stream",
     "text": [
      "Enter a String :  soumya\n"
     ]
    },
    {
     "name": "stdout",
     "output_type": "stream",
     "text": [
      "The length of the string is :  6\n"
     ]
    }
   ],
   "source": [
    "# Q-1)\n",
    "\n",
    "# Taking input from the user\n",
    "user =input(\"Enter a String : \")\n",
    "\n",
    "#calculating  length of a string\n",
    "length=len(user)\n",
    "\n",
    "#displaying length to user \n",
    "print(\"The length of the string is : \",length)"
   ]
  },
  {
   "cell_type": "code",
   "execution_count": 5,
   "id": "70980ff3-c0e6-4b60-b3f5-c6d6faa68e7d",
   "metadata": {},
   "outputs": [
    {
     "name": "stdin",
     "output_type": "stream",
     "text": [
      "Enter :  data science\n"
     ]
    },
    {
     "name": "stdout",
     "output_type": "stream",
     "text": [
      "Number of vowels in the sentence: 5\n"
     ]
    }
   ],
   "source": [
    "# Q-2)\n",
    "# Taking input from the user\n",
    "sentence = str(input(\"Enter : \"))\n",
    "\n",
    "# Converting the input sentence to lowercase to make the counting case-insensitive\n",
    "lowercase_sentence = sentence.lower()\n",
    "\n",
    "# Counting the number of vowels\n",
    "vowel_count = 0\n",
    "for char in lowercase_sentence:\n",
    "    if char in \"aeiou\":\n",
    "        vowel_count += 1\n",
    "\n",
    "# Displaying the vowel count\n",
    "print(\"Number of vowels in the sentence:\", vowel_count)\n"
   ]
  },
  {
   "cell_type": "code",
   "execution_count": 6,
   "id": "5dfa0e8c-4f85-4bc2-a942-29f4308c8fc4",
   "metadata": {},
   "outputs": [
    {
     "name": "stdin",
     "output_type": "stream",
     "text": [
      "Enter a string:  coding\n"
     ]
    },
    {
     "name": "stdout",
     "output_type": "stream",
     "text": [
      "Reversed string: gnidoc\n"
     ]
    }
   ],
   "source": [
    "# Q-3)\n",
    "# Taking input from the user\n",
    "input_string = input(\"Enter a string: \")\n",
    "\n",
    "# Reversing the string using string slicing\n",
    "reversed_string = input_string[::-1]\n",
    "\n",
    "# Displaying the reversed string\n",
    "print(\"Reversed string:\", reversed_string)\n"
   ]
  },
  {
   "cell_type": "code",
   "execution_count": 10,
   "id": "9f49ad6a-7b94-4569-8a8e-549cad9e7f38",
   "metadata": {},
   "outputs": [
    {
     "name": "stdin",
     "output_type": "stream",
     "text": [
      "Enter a string:  lool\n"
     ]
    },
    {
     "name": "stdout",
     "output_type": "stream",
     "text": [
      "Its palindrome !\n"
     ]
    }
   ],
   "source": [
    "# Q-4)\n",
    "#taking input from user\n",
    "input_string=input(\"Enter a string: \")\n",
    "\n",
    "#removing spaces and applying lower cases for all the string values for palindrome checking\n",
    "new_string=input_string.replace(\" \",\"\").lower()\n",
    "\n",
    "#reverse the new string\n",
    "reversed_string=new_string[::-1]\n",
    "\n",
    "#checking of palindrome or not\n",
    "if reversed_string==new_string:\n",
    "    print(\"Its palindrome !\")\n",
    "else:\n",
    "    print(\"Its not palindrome !\")\n",
    "    \n",
    "  "
   ]
  },
  {
   "cell_type": "code",
   "execution_count": 9,
   "id": "19a689ec-21dd-4319-b515-ba5b7a186802",
   "metadata": {},
   "outputs": [
    {
     "name": "stdin",
     "output_type": "stream",
     "text": [
      "Enter the string value:  swdu hswuhdw oqjsidwhdw wdhdw d d dd dddsh sd w\n"
     ]
    },
    {
     "name": "stdout",
     "output_type": "stream",
     "text": [
      "The modified string is :  swduhswuhdwoqjsidwhdwwdhdwdddddddshsdw\n"
     ]
    }
   ],
   "source": [
    "# Q-5)\n",
    "#taking input from the user\n",
    "input_string=input(\"Enter the string value: \")\n",
    "                   \n",
    "#Remove all the spaces from the string value\n",
    "modified_string=input_string.replace(\" \",\"\")\n",
    "                   \n",
    "#display\n",
    "print(\"The modified string is : \",modified_string)\n"
   ]
  },
  {
   "cell_type": "code",
   "execution_count": null,
   "id": "dcd0cf2f-b6ad-4568-a4e6-f8eac8f77df1",
   "metadata": {},
   "outputs": [],
   "source": []
  }
 ],
 "metadata": {
  "kernelspec": {
   "display_name": "Python 3 (ipykernel)",
   "language": "python",
   "name": "python3"
  },
  "language_info": {
   "codemirror_mode": {
    "name": "ipython",
    "version": 3
   },
   "file_extension": ".py",
   "mimetype": "text/x-python",
   "name": "python",
   "nbconvert_exporter": "python",
   "pygments_lexer": "ipython3",
   "version": "3.10.8"
  }
 },
 "nbformat": 4,
 "nbformat_minor": 5
}
